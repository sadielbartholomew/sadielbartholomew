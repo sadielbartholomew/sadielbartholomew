{
 "cells": [
  {
   "cell_type": "markdown",
   "metadata": {},
   "source": [
    "***\n",
    "# Mutable object use in Python: a cautionary tale\n",
    "\n",
    "Met Office *Python Guild* Bug of the Month, July '18\n",
    "\n",
    "Sadie Bartholomew (**@sadielbartholomew**)\n",
    "***"
   ]
  },
  {
   "cell_type": "markdown",
   "metadata": {},
   "source": [
    "## The bare bones...\n",
    "\n",
    "I've wrote up a simple function to add 'final item' to the end of a list. What could possibly go wrong?"
   ]
  },
  {
   "cell_type": "code",
   "execution_count": 1,
   "metadata": {},
   "outputs": [
    {
     "name": "stdout",
     "output_type": "stream",
     "text": [
      "['first item', 'intermediate item', 'final item']\n"
     ]
    }
   ],
   "source": [
    "def mark_end_of_my_list(my_list=[]):\n",
    "    my_list.append('final item')\n",
    "    return my_list\n",
    "\n",
    "print(mark_end_of_my_list(['first item', 'intermediate item']))"
   ]
  },
  {
   "cell_type": "markdown",
   "metadata": {},
   "source": [
    "It does 'as it says on the tin'. Great.\n",
    "\n",
    "Let's just check it's behaviour with no list input as an argument:"
   ]
  },
  {
   "cell_type": "code",
   "execution_count": 2,
   "metadata": {},
   "outputs": [
    {
     "name": "stdout",
     "output_type": "stream",
     "text": [
      "['final item']\n"
     ]
    }
   ],
   "source": [
    "print(mark_end_of_my_list())"
   ]
  },
  {
   "cell_type": "markdown",
   "metadata": {},
   "source": [
    "All fine... or is it?"
   ]
  },
  {
   "cell_type": "code",
   "execution_count": 3,
   "metadata": {},
   "outputs": [
    {
     "name": "stdout",
     "output_type": "stream",
     "text": [
      "['final item', 'final item']\n",
      "['final item', 'final item', 'final item']\n",
      "['final item', 'final item', 'final item', 'final item']\n"
     ]
    }
   ],
   "source": [
    "print(mark_end_of_my_list())\n",
    "print(mark_end_of_my_list())\n",
    "print(mark_end_of_my_list())\n",
    "# you get the idea..."
   ]
  },
  {
   "cell_type": "markdown",
   "metadata": {},
   "source": [
    "**Wait a minute...** why are there *multiple* elements in the output? The ``append()`` list method was *only called once* to add in a single 'final item'...\n",
    "\n",
    "**This is not the behaviour many would expect!**\n",
    "\n",
    "Let's do some investigation. First we can try multiple calls with our original, unremarkable, check using a test list:"
   ]
  },
  {
   "cell_type": "code",
   "execution_count": 4,
   "metadata": {},
   "outputs": [
    {
     "name": "stdout",
     "output_type": "stream",
     "text": [
      "['first item', 'intermediate item', 'final item']\n",
      "['first item', 'intermediate item', 'final item', 'final item']\n",
      "['first item', 'intermediate item', 'final item', 'final item', 'final item']\n"
     ]
    }
   ],
   "source": [
    "test_list = ['first item', 'intermediate item']\n",
    "print(mark_end_of_my_list(test_list))\n",
    "print(mark_end_of_my_list(test_list))\n",
    "print(mark_end_of_my_list(test_list))\n",
    "# etc..."
   ]
  },
  {
   "cell_type": "markdown",
   "metadata": {},
   "source": [
    "Nothing to see here; this is all exactly as anticipated! The problem, therefore, seems to originate from the lack of the function argument.\n",
    "\n",
    "Okay, let's try calling the argument-less function again, but this time with a slight adaption to the function. We'll *make a copy* of the input (or default) list before we do anything internally i.e. before we append the 'final item'."
   ]
  },
  {
   "cell_type": "code",
   "execution_count": 5,
   "metadata": {},
   "outputs": [
    {
     "name": "stdout",
     "output_type": "stream",
     "text": [
      "['final item']\n",
      "['final item']\n",
      "['final item']\n"
     ]
    }
   ],
   "source": [
    "def mark_end_of_my_copied_list(my_list=[]):\n",
    "    copy_of_list = list(my_list)  # copy the list before we do anything to it\n",
    "    copy_of_list.append('final item')\n",
    "    return copy_of_list\n",
    "\n",
    "print(mark_end_of_my_copied_list())\n",
    "print(mark_end_of_my_copied_list())\n",
    "print(mark_end_of_my_copied_list())\n",
    "# etc..."
   ]
  },
  {
   "cell_type": "markdown",
   "metadata": {},
   "source": [
    "Now *this* is the nice, *intuitive* behaviour I wanted from my simple function. Each function call adds a single 'final item' to either an input list or to the default empty list.\n",
    "\n",
    "Contrast this with equivalent processing on to add a fixed element to the end of a *string* or an empty string by default:"
   ]
  },
  {
   "cell_type": "code",
   "execution_count": 6,
   "metadata": {},
   "outputs": [
    {
     "name": "stdout",
     "output_type": "stream",
     "text": [
      "A standard sentence should end with a full stop.\n",
      "A standard sentence should end with a full stop.\n",
      "A standard sentence should end with a full stop.\n",
      ".\n",
      ".\n",
      ".\n"
     ]
    }
   ],
   "source": [
    "def mark_end_of_my_string(my_string=''):\n",
    "    my_string = my_string + '.'  # might as well end with a full stop in this case, as is customary!\n",
    "    return my_string\n",
    "\n",
    "test_sentence = 'A standard sentence should end with a full stop'\n",
    "print(mark_end_of_my_string(test_sentence))\n",
    "print(mark_end_of_my_string(test_sentence))\n",
    "print(mark_end_of_my_string(test_sentence))\n",
    "\n",
    "print(mark_end_of_my_string())\n",
    "print(mark_end_of_my_string())  # what will happen at this point, '.' or '..'?\n",
    "print(mark_end_of_my_string())  # what will happen at this point, '.' or '...'?\n",
    "# etc..."
   ]
  },
  {
   "cell_type": "markdown",
   "metadata": {},
   "source": [
    "Without needing to do initial copying of the object to be processing, in this case, we get single element final addition to our empty default object.\n",
    "\n",
    "**So what is the cause of this (at least to the uninitiated) peculiar behaviour? And why does it apply to lists but *not* to strings?**"
   ]
  },
  {
   "cell_type": "markdown",
   "metadata": {},
   "source": [
    "***\n",
    "\n",
    "## Mutable default arguments: a classic Python 'gotcha'\n",
    "\n",
    "The crux of it all:\n",
    "\n",
    "<div class=\"alert alert-block alert-danger\">\n",
    "Default argument values are evaluated when a function (or method, or class) is <b>defined</b>, *not* when it is called.\n",
    "<br><br>\n",
    "Repeat calls to a function (etc.) with one or more *mutable* objects as default argument(s) will therefore apply internal changes to the *same* mutable object(s) created upon definition. Changes made with each successive call to these objects *persist*, as they are being applied to the same object.\n",
    "<br><br>\n",
    "\n",
    "However, this does not apply to *immutable* objects, which are fixed after creation. They can't be changed, so changes cannot persist. In this sense, this makes them safer to use.\n",
    "</div>\n",
    "\n",
    "***"
   ]
  },
  {
   "cell_type": "markdown",
   "metadata": {},
   "source": [
    "### The standard get-around:\n",
    "\n",
    "Let's see how to avoid this behaviour (if we don't intend to use it to our advantage). For variety, we'll use a new basic example with a class. Lists are used here again, but this behaviour also applies with other mutables, e.g. dictionaries & sets:"
   ]
  },
  {
   "cell_type": "code",
   "execution_count": 7,
   "metadata": {},
   "outputs": [],
   "source": [
    "\"\"\"Some basic classes for recording shopping list items for a default shop.\"\"\"\n",
    "\n",
    "class Ignorant_Shopper:\n",
    "\n",
    "    def __init__(self, shop_name='Tesco', shop_id='a485', shopping_list=[]):\n",
    "        self.shop_name = shop_name\n",
    "        self.shop_id = shop_id\n",
    "\n",
    "        # With ignorance:\n",
    "        self.shopping_list = shopping_list\n",
    "\n",
    "    def add_item_to_list(self, grocery):\n",
    "        self.shopping_list.append(grocery)\n",
    "\n",
    "\n",
    "class Wise_Shopper:\n",
    "\n",
    "    def __init__(self, shop_name='Tesco', shop_id='a485', shopping_list=None):\n",
    "        self.shop_name = shop_name\n",
    "        self.shop_id = shop_id\n",
    "\n",
    "        # With wisdom/awareness:\n",
    "        if shopping_list is None:  # or 'if not shopping basket:'\n",
    "            shopping_list = []\n",
    "        self.shopping_list = shopping_list\n",
    "\n",
    "    def add_item_to_list(self, grocery):\n",
    "        self.shopping_list.append(grocery)"
   ]
  },
  {
   "cell_type": "markdown",
   "metadata": {},
   "source": [
    "Note the only difference between the ``Ignorant_Shopper`` and ``Wise_Shopper`` classes: the default settings & initlialisation of the ``shopping_list`` attribute."
   ]
  },
  {
   "cell_type": "code",
   "execution_count": 8,
   "metadata": {},
   "outputs": [
    {
     "name": "stdout",
     "output_type": "stream",
     "text": [
      "['milk']\n",
      "['milk']\n"
     ]
    }
   ],
   "source": [
    "shopper = Ignorant_Shopper()\n",
    "shopper.add_item_to_list('milk')\n",
    "print(shopper.shopping_list)\n",
    "\n",
    "another_shopper = Ignorant_Shopper()\n",
    "print(another_shopper.shopping_list)"
   ]
  },
  {
   "cell_type": "markdown",
   "metadata": {},
   "source": [
    "Oh dear: ``another_shopper``, has mistakenly been asked to buy milk! ``Ignorant_Shopper`` class has our default argument persistence problem.\n",
    "\n",
    "The shopping list for both instances point to the same object:"
   ]
  },
  {
   "cell_type": "code",
   "execution_count": 9,
   "metadata": {},
   "outputs": [
    {
     "data": {
      "text/plain": [
       "'<list object at 0x7ff758655230>'"
      ]
     },
     "execution_count": 9,
     "metadata": {},
     "output_type": "execute_result"
    }
   ],
   "source": [
    "object.__repr__(shopper.shopping_list)"
   ]
  },
  {
   "cell_type": "code",
   "execution_count": 10,
   "metadata": {},
   "outputs": [
    {
     "data": {
      "text/plain": [
       "'<list object at 0x7ff758655230>'"
      ]
     },
     "execution_count": 10,
     "metadata": {},
     "output_type": "execute_result"
    }
   ],
   "source": [
    "object.__repr__(another_shopper.shopping_list)"
   ]
  },
  {
   "cell_type": "markdown",
   "metadata": {},
   "source": [
    "With the standard get-around using a placeholder default argument, typically None, as in ``Wise_Shopper``, we get what we wanted all along:"
   ]
  },
  {
   "cell_type": "code",
   "execution_count": 11,
   "metadata": {},
   "outputs": [
    {
     "name": "stdout",
     "output_type": "stream",
     "text": [
      "['milk']\n",
      "[]\n"
     ]
    }
   ],
   "source": [
    "shopper = Wise_Shopper()\n",
    "shopper.add_item_to_list('milk')\n",
    "another_shopper = Wise_Shopper()\n",
    "\n",
    "print(shopper.shopping_list)\n",
    "print(another_shopper.shopping_list)"
   ]
  },
  {
   "cell_type": "markdown",
   "metadata": {},
   "source": [
    "In this case, each instance creates its own mutable, here the ``shopping_list`` list:"
   ]
  },
  {
   "cell_type": "code",
   "execution_count": 12,
   "metadata": {},
   "outputs": [
    {
     "data": {
      "text/plain": [
       "'<list object at 0x7ff758652780>'"
      ]
     },
     "execution_count": 12,
     "metadata": {},
     "output_type": "execute_result"
    }
   ],
   "source": [
    "object.__repr__(shopper.shopping_list)"
   ]
  },
  {
   "cell_type": "code",
   "execution_count": 13,
   "metadata": {},
   "outputs": [
    {
     "data": {
      "text/plain": [
       "'<list object at 0x7ff75aeeeb40>'"
      ]
     },
     "execution_count": 13,
     "metadata": {},
     "output_type": "execute_result"
    }
   ],
   "source": [
    "object.__repr__(another_shopper.shopping_list)"
   ]
  },
  {
   "cell_type": "markdown",
   "metadata": {},
   "source": [
    "### Disclaimer:\n",
    "\n",
    "<div class=\"alert alert-block alert-info\">\n",
    "<b>This is a Python *feature*, not a *bug*.</b> It is not going to be 'fixed'!\n",
    "<br><br>\n",
    "Mutable default arguments & their behaviour, as outlined, can be **used advantageously** if one is aware of the proper behaviour. For example our ``Ignorant_Shopper`` class might not be so ignorant after all, & have been designed with **caching** in mind.</div>"
   ]
  },
  {
   "cell_type": "markdown",
   "metadata": {},
   "source": [
    "***\n",
    "\n",
    "## But mutable objects are not only deceptive as default arguments...\n",
    "\n",
    "Mutables can also cause trouble elsewhere. Here's a basic example:"
   ]
  },
  {
   "cell_type": "code",
   "execution_count": 19,
   "metadata": {},
   "outputs": [],
   "source": [
    "import random\n",
    "\n",
    "def shuffle_my_list(my_list):\n",
    "    # ...\n",
    "    # some processing code\n",
    "    # ...\n",
    "    random.shuffle(my_list)\n",
    "    # ...\n",
    "    # some more processing code\n",
    "    # ...\n",
    "    return my_list"
   ]
  },
  {
   "cell_type": "code",
   "execution_count": 20,
   "metadata": {},
   "outputs": [
    {
     "name": "stdout",
     "output_type": "stream",
     "text": [
      "My favourite song goes: '3 4 2 1 5 once I caught a fish alive'\n"
     ]
    }
   ],
   "source": [
    "listing_one_to_five = [\"1\", \"2\", \"3\", \"4\", \"5\"]\n",
    "\n",
    "# ... doing some processing, including:\n",
    "shuffle_my_list(listing_one_to_five)\n",
    "# ... doing some more processing, including:\n",
    "listing_one_to_five.append(\"once I caught a fish alive\")\n",
    "\n",
    "print(\"My favourite song goes: '\" + \" \".join(listing_one_to_five) + \"'\")"
   ]
  },
  {
   "cell_type": "markdown",
   "metadata": {},
   "source": [
    "Wait a minute, that's not quite my favourite song...\n",
    "\n",
    "Let's again investigate by copying the list in question:"
   ]
  },
  {
   "cell_type": "code",
   "execution_count": 16,
   "metadata": {},
   "outputs": [
    {
     "name": "stdout",
     "output_type": "stream",
     "text": [
      "My favourite song goes: '1, 2, 3, 4, 5, once I caught a fish alive'\n"
     ]
    }
   ],
   "source": [
    "new_listing_one_to_five = [\"1\", \"2\", \"3\", \"4\", \"5\"]\n",
    "\n",
    "# ... doing some processing, including:\n",
    "shuffle_my_list(list(new_listing_one_to_five))  # note we input a copy of the list\n",
    "# ... doing some more processing, including:\n",
    "new_listing_one_to_five.append(\"once I caught a fish alive\")\n",
    "\n",
    "print(\"My favourite song goes: '\" + \", \".join(new_listing_one_to_five) + \"'\")"
   ]
  },
  {
   "cell_type": "markdown",
   "metadata": {},
   "source": [
    "That's better!\n",
    "\n",
    "Contrasting the above, second, example to the first example, which gave an unintentionally shuffled result for the listing of the integers one to five input to the song lyric string printed, noting the only difference is in the input list to ``shuffle_my_list()``, we can see that inputting a copied list using ``list()`` prevents the original list from being changed by that function.\n",
    "\n",
    "**In general, if you want to utilise a mutable object but want to prevent it changing & causing trouble downstream, copy it by some means before using it in a function, method, class etc.**"
   ]
  },
  {
   "cell_type": "markdown",
   "metadata": {},
   "source": [
    "***\n",
    "\n",
    "## A summary of lessons learned:\n",
    "\n",
    "* Default argument values are evaluated when a function/method/class is defined, not when called. If mutable, they will persist throughout instances if used naively.<br>\n",
    "* The standard get-around for mutable defaults is to instead default to ``None`` & then use an ``if`` statement checking for ``None`` to update accordingly.<br>\n",
    "* This is a classic 'gotcha': just need to be aware of the behaviour! Can you use it to your advantage?\n",
    "\n",
    "***"
   ]
  }
 ],
 "metadata": {
  "kernelspec": {
   "display_name": "Python 3",
   "language": "python",
   "name": "python3"
  },
  "language_info": {
   "codemirror_mode": {
    "name": "ipython",
    "version": 3
   },
   "file_extension": ".py",
   "mimetype": "text/x-python",
   "name": "python",
   "nbconvert_exporter": "python",
   "pygments_lexer": "ipython3",
   "version": "3.7.4"
  }
 },
 "nbformat": 4,
 "nbformat_minor": 2
}
