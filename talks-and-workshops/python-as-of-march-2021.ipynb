{
 "cells": [
  {
   "cell_type": "markdown",
   "id": "awful-japanese",
   "metadata": {},
   "source": [
    "# State of the Nation: Python as of March 2021\n",
    "\n",
    "## A brief history of Python and glimpse at versions 3.8, 3.9* and 3.10**\n",
    "\n",
    "* \\* latest minor version\n",
    "* \\*\\* upcoming minor version, expected October 2021\n",
    "\n",
    "**Sadie Bartholomew, presented on 26.03.21 at the NCAS Python Technical Meeting**\n",
    "\n",
    "-----"
   ]
  },
  {
   "cell_type": "markdown",
   "id": "choice-antigua",
   "metadata": {},
   "source": [
    "Let's begin with a quick look at the big picture, because...\n",
    "\n",
    "## Python turned 30 this February!\n",
    "\n",
    "Happy belated birthday Python:"
   ]
  },
  {
   "cell_type": "code",
   "execution_count": 1,
   "id": "previous-easter",
   "metadata": {},
   "outputs": [
    {
     "name": "stdout",
     "output_type": "stream",
     "text": [
      "🎂 🎈 🎊 🐍 🐍 🐍 🐍 🐍 🐍 \n"
     ]
    }
   ],
   "source": [
    "# In not many other languages could you (or would you want to) do this:\n",
    "print(\n",
    "    '\\N{birthday cake}',  # unicode emoji CLDR short name with '\\N' escape character\n",
    "    '\\N{balloon}',\n",
    "    '\\N{confetti ball}',\n",
    "    '\\N{snake} ' * 6,\n",
    ")"
   ]
  },
  {
   "cell_type": "markdown",
   "id": "wanted-failing",
   "metadata": {},
   "source": [
    "**Over the three decades, milestones of note are:**\n",
    "\n",
    "* version 0.9.0 in early 1991;\n",
    "* 1.0 in 1994;\n",
    "* 2.0 shortly after the millenium;\n",
    "* formally losing Guido as the \"Benevolent dictator for life\" (BDFL) in 2018 shortly after [PEP 572](https://www.python.org/dev/peps/pep-0572/) a.k.a. the \"walrus operator\" (`:=`) PEP which was added for version 3.8 (summarised later);\n",
    "* Python 2 reaching end-of-life in 2020;\n",
    "* all the way up to the latest version 3.9, released October 2020.\n",
    "\n",
    "Here's a nice graphic depicting Python's version evolution up to ~2018 (source is a post 'Should You Learn Python Programming In 2020?' on the *Venture Lessons* site, at https://www.venturelessons.com/should-you-learn-python-programming/):\n",
    "\n",
    "![](https://www.venturelessons.com/wp-content/uploads/2019/06/short-history-of-python-1024x419.jpg)"
   ]
  },
  {
   "cell_type": "markdown",
   "id": "structured-albert",
   "metadata": {},
   "source": [
    "In light of this long history, it is nice to revisit the \"Zen of Python\" (PEP 20) created in 2004, which \"succinctly \\[channel\\] the BDFL's guiding principles\":"
   ]
  },
  {
   "cell_type": "code",
   "execution_count": 2,
   "id": "adverse-kinase",
   "metadata": {},
   "outputs": [
    {
     "name": "stdout",
     "output_type": "stream",
     "text": [
      "The Zen of Python, by Tim Peters\n",
      "\n",
      "Beautiful is better than ugly.\n",
      "Explicit is better than implicit.\n",
      "Simple is better than complex.\n",
      "Complex is better than complicated.\n",
      "Flat is better than nested.\n",
      "Sparse is better than dense.\n",
      "Readability counts.\n",
      "Special cases aren't special enough to break the rules.\n",
      "Although practicality beats purity.\n",
      "Errors should never pass silently.\n",
      "Unless explicitly silenced.\n",
      "In the face of ambiguity, refuse the temptation to guess.\n",
      "There should be one-- and preferably only one --obvious way to do it.\n",
      "Although that way may not be obvious at first unless you're Dutch.\n",
      "Now is better than never.\n",
      "Although never is often better than *right* now.\n",
      "If the implementation is hard to explain, it's a bad idea.\n",
      "If the implementation is easy to explain, it may be a good idea.\n",
      "Namespaces are one honking great idea -- let's do more of those!\n"
     ]
    }
   ],
   "source": [
    "import this"
   ]
  },
  {
   "cell_type": "markdown",
   "id": "vietnamese-session",
   "metadata": {},
   "source": [
    "I'm not sure how much these principles have been adhered to. For example:\n",
    "\n",
    "> There should be one-- and preferably only one --obvious way to do it.\n",
    "\n",
    "And and somehow we now have a situation like this for (taking one obvious example) string formatting:"
   ]
  },
  {
   "cell_type": "code",
   "execution_count": 3,
   "id": "sticky-advisory",
   "metadata": {},
   "outputs": [
    {
     "name": "stdout",
     "output_type": "stream",
     "text": [
      "Sadie is using Python 3.9\n",
      "Sadie is using Python 3.9\n",
      "Sadie is using Python 3.9\n",
      "Sadie is using Python 3.9\n",
      "Sadie is using Python 3.9\n"
     ]
    }
   ],
   "source": [
    "name = \"Sadie\"\n",
    "python_version = str(sys.version_info.major) + \".\" + str(sys.version_info.minor)\n",
    "\n",
    "a = f\"{name} is using Python {python_version}\"            # f-string (\"literals\")\n",
    "b = \"{} is using Python {}\".format(name, python_version)  # format string\n",
    "c = \"%s is using Python %s\" % (name, python_version)      # C-style\n",
    "d = name + \" is using Python \" + python_version           # construction by concatenation\n",
    "# ... or even some mix of these (not advised, and f- and format string mix is forbidden):\n",
    "e = f\"{name} is using %s\" % (\"Python \" + python_version)\n",
    "\n",
    "for string in [a, b, c, d, e]:\n",
    "    print(string)"
   ]
  },
  {
   "cell_type": "markdown",
   "id": "athletic-regard",
   "metadata": {},
   "source": [
    "On that note, which is best to use in March 2021?\n",
    "\n",
    "It is somewhat subjective based on readability considerations etc., but this talk considers Python 3.8 and onwards, in which case literal string interpolation is available ([PEP 498](https://www.python.org/dev/peps/pep-0498/) in for Python 3.6+) and seems largely agreed that such \"f-strings\" are the best choice to use going forward, due for example to less limitations and better performance, e.g. compare the representative timings of:"
   ]
  },
  {
   "cell_type": "code",
   "execution_count": 4,
   "id": "homeless-uruguay",
   "metadata": {},
   "outputs": [
    {
     "name": "stdout",
     "output_type": "stream",
     "text": [
      "128 ms ± 10.3 ms per loop (mean ± std. dev. of 7 runs, 10 loops each)\n"
     ]
    }
   ],
   "source": [
    "def literal_test(ints):\n",
    "    \"\"\"Keep adding digits to an empty string, via literal string formatting.\"\"\"\n",
    "    a = \"\"\n",
    "    for integer in range(ints):\n",
    "        a += f\"{integer}\"\n",
    "\n",
    "\n",
    "test_input_int = int(1e6)\n",
    "%timeit literal_test(test_input_int)  # note %timeit is an iPython magic func: see %lsmagic for more"
   ]
  },
  {
   "cell_type": "markdown",
   "id": "egyptian-maine",
   "metadata": {},
   "source": [
    "to the timings of:"
   ]
  },
  {
   "cell_type": "code",
   "execution_count": 5,
   "id": "allied-creation",
   "metadata": {},
   "outputs": [
    {
     "name": "stdout",
     "output_type": "stream",
     "text": [
      "211 ms ± 16.4 ms per loop (mean ± std. dev. of 7 runs, 1 loop each)\n"
     ]
    }
   ],
   "source": [
    "def format_test(ints):\n",
    "    \"\"\"Keep adding digits to an empty string, this time with format strings.\"\"\"\n",
    "    a = \"\"\n",
    "    for integer in range(ints):\n",
    "        a += \"{}\".format(integer)\n",
    "\n",
    "%timeit format_test(test_input_int)"
   ]
  },
  {
   "cell_type": "markdown",
   "id": "saved-substitute",
   "metadata": {},
   "source": [
    "So, that's a brief history. Now to the present and the future, starting with a quick detour to demo the highly controversial \"walrus operator\" PEP that is available from 3.8..."
   ]
  },
  {
   "cell_type": "markdown",
   "id": "similar-hypothesis",
   "metadata": {},
   "source": [
    "## Assignment expressions via the \"walrus operator\" `:=`, new in v. 3.8"
   ]
  },
  {
   "cell_type": "markdown",
   "id": "vocal-allen",
   "metadata": {},
   "source": [
    "With `:=` in 3.8 onwards we can assign a value to a variable in the context of an expression.\n",
    "\n",
    "![walrus](https://upload.wikimedia.org/wikipedia/commons/thumb/2/22/Pacific_Walrus_-_Bull_%288247646168%29.jpg/800px-Pacific_Walrus_-_Bull_%288247646168%29.jpg)\n",
    "\n",
    "(Walrus source: Wikimedia commons via https://en.wikipedia.org/wiki/File:Pacific_Walrus_-_Bull_(8247646168).jpg)\n",
    "\n",
    "Take, towards a near-minimal example, some trivial logic which takes a random integer from 0 to 4 and prints it if it is non-zero:"
   ]
  },
  {
   "cell_type": "code",
   "execution_count": 6,
   "id": "confident-improvement",
   "metadata": {},
   "outputs": [
    {
     "name": "stdout",
     "output_type": "stream",
     "text": [
      "4\n"
     ]
    }
   ],
   "source": [
    "from random import randrange\n",
    "\n",
    "# Without walrus operator:\n",
    "choice = randrange(5)  # 0 to 4 at random\n",
    "if choice: # if not zero\n",
    "    print(choice)"
   ]
  },
  {
   "cell_type": "markdown",
   "id": "psychological-statistics",
   "metadata": {},
   "source": [
    "With the walrus operator, this could be condensed into two lines:"
   ]
  },
  {
   "cell_type": "code",
   "execution_count": 7,
   "id": "bigger-toilet",
   "metadata": {},
   "outputs": [
    {
     "name": "stdout",
     "output_type": "stream",
     "text": [
      "1\n"
     ]
    }
   ],
   "source": [
    "if choice := randrange(5):  # combines first two lines of the above into one\n",
    "    print(choice)"
   ]
  },
  {
   "cell_type": "markdown",
   "id": "enhanced-migration",
   "metadata": {},
   "source": [
    "Note though that there are certain contexts where the operator can't be used, for example in many cases when at top-level and unparenthesised. For details consult the associated PEP: https://www.python.org/dev/peps/pep-0572/#exceptional-cases."
   ]
  },
  {
   "cell_type": "markdown",
   "id": "resident-decrease",
   "metadata": {},
   "source": [
    "## The latest (minor) version: Python 3.9"
   ]
  },
  {
   "cell_type": "markdown",
   "id": "heard-monaco",
   "metadata": {},
   "source": [
    "Python 3.9 is the current latest version, released October 2020.\n",
    "\n",
    "\n",
    "Good resources covering the changes between 3.8 and 3.9 include:\n",
    "\n",
    "* the offical summary: https://docs.python.org/3/whatsnew/3.9.html#what-s-new-in-python-3-9\n",
    "* some blog posts, for example: https://realpython.com/python39-new-features/ "
   ]
  },
  {
   "cell_type": "markdown",
   "id": "knowing-assault",
   "metadata": {},
   "source": [
    "### Confirming support for Python 3.9\n",
    "\n",
    "Many Python libraries have started to confirm, and test they work for, 3.9, though maintainers need to ensure dependencies support 3.9 before packages can be upgraded to 3.9 themselves.\n",
    "\n",
    "For example, with cf-python we've recently confirmed 3.9 works and hence documented it as such and added 3.9 to our Actions test workflows etc., but we had to wait on a version of `netcdf4` being available for Python 3.9, so anyhow couldn't have supported 3.9 until early 2021.\n",
    "\n",
    "**Note: now 3.9 is available directly from conda (as well as pip). A few months back one had to use the conda-forge channel with conda to access it.** Just create a clean 3.9 environment via `conda create -n python39env python=3.9` or similar and you're up and running."
   ]
  },
  {
   "cell_type": "markdown",
   "id": "sublime-corpus",
   "metadata": {},
   "source": [
    "### Quick overview of some notable new features"
   ]
  },
  {
   "cell_type": "markdown",
   "id": "preliminary-formation",
   "metadata": {},
   "source": [
    "* Syntactic sugar for merging of dictionaries, with a new union operator `|` (see [PEP 584](https://www.python.org/dev/peps/pep-0584/) for details):"
   ]
  },
  {
   "cell_type": "code",
   "execution_count": 8,
   "id": "public-estate",
   "metadata": {},
   "outputs": [
    {
     "name": "stdout",
     "output_type": "stream",
     "text": [
      "{1: 10, 2: 20}\n",
      "{3: 30, 4: 40}\n",
      "{1: 10, 2: 20, 3: 30, 4: 40}\n",
      "True\n"
     ]
    }
   ],
   "source": [
    "a = {1:10, 2:20}\n",
    "b = {3:30, 4:40}\n",
    "\n",
    "# Before, the best we could do is one of either:\n",
    "c1 = {**a, **b}\n",
    "# or (assuming a solution that shouldn't change 'a' in-place):\n",
    "c2 = a.copy()\n",
    "c2.update(b)\n",
    "\n",
    "# Now, in 3.9, we can do:\n",
    "c3 = a | b\n",
    "\n",
    "# Just to show they all are the same and the original dicts are untouched:\n",
    "print(\n",
    "    a,\n",
    "    b,\n",
    "    c1,\n",
    "    c1 == c2 == c3,\n",
    "    sep=\"\\n\"\n",
    ")"
   ]
  },
  {
   "cell_type": "markdown",
   "id": "divided-routine",
   "metadata": {},
   "source": [
    "* Handy new string stripping methods for `removeprefix` and `removesuffix` (see [PEP 616](https://www.python.org/dev/peps/pep-0616/) for details).\n",
    "\n",
    "  Note that part of the reason for these methods being added, as covered in the PEP in question, is that similar existing methods, `lstrip()` and `rstrip()`, were often assumed to do what these methods do, but they instead work on a set of characters rather than a ordered sequence of them i.e. a substring. For example, compare:"
   ]
  },
  {
   "cell_type": "code",
   "execution_count": 9,
   "id": "premium-appeal",
   "metadata": {},
   "outputs": [
    {
     "name": "stdout",
     "output_type": "stream",
     "text": [
      "Apples, oranges and b\n",
      "Apples, oranges and bananas\n",
      "Apples, oranges and b\n",
      "Apples, oranges and bana\n"
     ]
    }
   ],
   "source": [
    "# Comparing rstrip and the new method for 3.9, removesuffix:\n",
    "\n",
    "fruits = \"Apples, oranges and bananas\"\n",
    "\n",
    "print(fruits.rstrip(\"ans\"))\n",
    "print(fruits.removesuffix(\"ans\"))\n",
    "\n",
    "print(fruits.rstrip(\"nas\"))\n",
    "print(fruits.removesuffix(\"nas\"))"
   ]
  },
  {
   "cell_type": "markdown",
   "id": "smoking-hierarchy",
   "metadata": {},
   "source": [
    "* Further changes to breifly note:\n",
    "\n",
    "  * 3.9 is the final version providing Python 2 backward compatibility layers, so watch out for any cases of `DeprecationWarning` in your codebases (details in the PEP [here]());\n",
    "  * it has a a new parser (details in the PEP [here]())!"
   ]
  },
  {
   "cell_type": "markdown",
   "id": "canadian-desire",
   "metadata": {},
   "source": [
    "### New module: `zoneinfo` for proper time zone support\n",
    "\n",
    "As a quick sample, see the many, many supported timezones:"
   ]
  },
  {
   "cell_type": "code",
   "execution_count": 10,
   "id": "quick-thesis",
   "metadata": {},
   "outputs": [
    {
     "data": {
      "text/plain": [
       "{'Africa/Abidjan',\n",
       " 'Africa/Accra',\n",
       " 'Africa/Addis_Ababa',\n",
       " 'Africa/Algiers',\n",
       " 'Africa/Asmara',\n",
       " 'Africa/Asmera',\n",
       " 'Africa/Bamako',\n",
       " 'Africa/Bangui',\n",
       " 'Africa/Banjul',\n",
       " 'Africa/Bissau',\n",
       " 'Africa/Blantyre',\n",
       " 'Africa/Brazzaville',\n",
       " 'Africa/Bujumbura',\n",
       " 'Africa/Cairo',\n",
       " 'Africa/Casablanca',\n",
       " 'Africa/Ceuta',\n",
       " 'Africa/Conakry',\n",
       " 'Africa/Dakar',\n",
       " 'Africa/Dar_es_Salaam',\n",
       " 'Africa/Djibouti',\n",
       " 'Africa/Douala',\n",
       " 'Africa/El_Aaiun',\n",
       " 'Africa/Freetown',\n",
       " 'Africa/Gaborone',\n",
       " 'Africa/Harare',\n",
       " 'Africa/Johannesburg',\n",
       " 'Africa/Juba',\n",
       " 'Africa/Kampala',\n",
       " 'Africa/Khartoum',\n",
       " 'Africa/Kigali',\n",
       " 'Africa/Kinshasa',\n",
       " 'Africa/Lagos',\n",
       " 'Africa/Libreville',\n",
       " 'Africa/Lome',\n",
       " 'Africa/Luanda',\n",
       " 'Africa/Lubumbashi',\n",
       " 'Africa/Lusaka',\n",
       " 'Africa/Malabo',\n",
       " 'Africa/Maputo',\n",
       " 'Africa/Maseru',\n",
       " 'Africa/Mbabane',\n",
       " 'Africa/Mogadishu',\n",
       " 'Africa/Monrovia',\n",
       " 'Africa/Nairobi',\n",
       " 'Africa/Ndjamena',\n",
       " 'Africa/Niamey',\n",
       " 'Africa/Nouakchott',\n",
       " 'Africa/Ouagadougou',\n",
       " 'Africa/Porto-Novo',\n",
       " 'Africa/Sao_Tome',\n",
       " 'Africa/Timbuktu',\n",
       " 'Africa/Tripoli',\n",
       " 'Africa/Tunis',\n",
       " 'Africa/Windhoek',\n",
       " 'America/Adak',\n",
       " 'America/Anchorage',\n",
       " 'America/Anguilla',\n",
       " 'America/Antigua',\n",
       " 'America/Araguaina',\n",
       " 'America/Argentina/Buenos_Aires',\n",
       " 'America/Argentina/Catamarca',\n",
       " 'America/Argentina/ComodRivadavia',\n",
       " 'America/Argentina/Cordoba',\n",
       " 'America/Argentina/Jujuy',\n",
       " 'America/Argentina/La_Rioja',\n",
       " 'America/Argentina/Mendoza',\n",
       " 'America/Argentina/Rio_Gallegos',\n",
       " 'America/Argentina/Salta',\n",
       " 'America/Argentina/San_Juan',\n",
       " 'America/Argentina/San_Luis',\n",
       " 'America/Argentina/Tucuman',\n",
       " 'America/Argentina/Ushuaia',\n",
       " 'America/Aruba',\n",
       " 'America/Asuncion',\n",
       " 'America/Atikokan',\n",
       " 'America/Atka',\n",
       " 'America/Bahia',\n",
       " 'America/Bahia_Banderas',\n",
       " 'America/Barbados',\n",
       " 'America/Belem',\n",
       " 'America/Belize',\n",
       " 'America/Blanc-Sablon',\n",
       " 'America/Boa_Vista',\n",
       " 'America/Bogota',\n",
       " 'America/Boise',\n",
       " 'America/Buenos_Aires',\n",
       " 'America/Cambridge_Bay',\n",
       " 'America/Campo_Grande',\n",
       " 'America/Cancun',\n",
       " 'America/Caracas',\n",
       " 'America/Catamarca',\n",
       " 'America/Cayenne',\n",
       " 'America/Cayman',\n",
       " 'America/Chicago',\n",
       " 'America/Chihuahua',\n",
       " 'America/Coral_Harbour',\n",
       " 'America/Cordoba',\n",
       " 'America/Costa_Rica',\n",
       " 'America/Creston',\n",
       " 'America/Cuiaba',\n",
       " 'America/Curacao',\n",
       " 'America/Danmarkshavn',\n",
       " 'America/Dawson',\n",
       " 'America/Dawson_Creek',\n",
       " 'America/Denver',\n",
       " 'America/Detroit',\n",
       " 'America/Dominica',\n",
       " 'America/Edmonton',\n",
       " 'America/Eirunepe',\n",
       " 'America/El_Salvador',\n",
       " 'America/Ensenada',\n",
       " 'America/Fort_Nelson',\n",
       " 'America/Fort_Wayne',\n",
       " 'America/Fortaleza',\n",
       " 'America/Glace_Bay',\n",
       " 'America/Godthab',\n",
       " 'America/Goose_Bay',\n",
       " 'America/Grand_Turk',\n",
       " 'America/Grenada',\n",
       " 'America/Guadeloupe',\n",
       " 'America/Guatemala',\n",
       " 'America/Guayaquil',\n",
       " 'America/Guyana',\n",
       " 'America/Halifax',\n",
       " 'America/Havana',\n",
       " 'America/Hermosillo',\n",
       " 'America/Indiana/Indianapolis',\n",
       " 'America/Indiana/Knox',\n",
       " 'America/Indiana/Marengo',\n",
       " 'America/Indiana/Petersburg',\n",
       " 'America/Indiana/Tell_City',\n",
       " 'America/Indiana/Vevay',\n",
       " 'America/Indiana/Vincennes',\n",
       " 'America/Indiana/Winamac',\n",
       " 'America/Indianapolis',\n",
       " 'America/Inuvik',\n",
       " 'America/Iqaluit',\n",
       " 'America/Jamaica',\n",
       " 'America/Jujuy',\n",
       " 'America/Juneau',\n",
       " 'America/Kentucky/Louisville',\n",
       " 'America/Kentucky/Monticello',\n",
       " 'America/Knox_IN',\n",
       " 'America/Kralendijk',\n",
       " 'America/La_Paz',\n",
       " 'America/Lima',\n",
       " 'America/Los_Angeles',\n",
       " 'America/Louisville',\n",
       " 'America/Lower_Princes',\n",
       " 'America/Maceio',\n",
       " 'America/Managua',\n",
       " 'America/Manaus',\n",
       " 'America/Marigot',\n",
       " 'America/Martinique',\n",
       " 'America/Matamoros',\n",
       " 'America/Mazatlan',\n",
       " 'America/Mendoza',\n",
       " 'America/Menominee',\n",
       " 'America/Merida',\n",
       " 'America/Metlakatla',\n",
       " 'America/Mexico_City',\n",
       " 'America/Miquelon',\n",
       " 'America/Moncton',\n",
       " 'America/Monterrey',\n",
       " 'America/Montevideo',\n",
       " 'America/Montreal',\n",
       " 'America/Montserrat',\n",
       " 'America/Nassau',\n",
       " 'America/New_York',\n",
       " 'America/Nipigon',\n",
       " 'America/Nome',\n",
       " 'America/Noronha',\n",
       " 'America/North_Dakota/Beulah',\n",
       " 'America/North_Dakota/Center',\n",
       " 'America/North_Dakota/New_Salem',\n",
       " 'America/Nuuk',\n",
       " 'America/Ojinaga',\n",
       " 'America/Panama',\n",
       " 'America/Pangnirtung',\n",
       " 'America/Paramaribo',\n",
       " 'America/Phoenix',\n",
       " 'America/Port-au-Prince',\n",
       " 'America/Port_of_Spain',\n",
       " 'America/Porto_Acre',\n",
       " 'America/Porto_Velho',\n",
       " 'America/Puerto_Rico',\n",
       " 'America/Punta_Arenas',\n",
       " 'America/Rainy_River',\n",
       " 'America/Rankin_Inlet',\n",
       " 'America/Recife',\n",
       " 'America/Regina',\n",
       " 'America/Resolute',\n",
       " 'America/Rio_Branco',\n",
       " 'America/Rosario',\n",
       " 'America/Santa_Isabel',\n",
       " 'America/Santarem',\n",
       " 'America/Santiago',\n",
       " 'America/Santo_Domingo',\n",
       " 'America/Sao_Paulo',\n",
       " 'America/Scoresbysund',\n",
       " 'America/Shiprock',\n",
       " 'America/Sitka',\n",
       " 'America/St_Barthelemy',\n",
       " 'America/St_Johns',\n",
       " 'America/St_Kitts',\n",
       " 'America/St_Lucia',\n",
       " 'America/St_Thomas',\n",
       " 'America/St_Vincent',\n",
       " 'America/Swift_Current',\n",
       " 'America/Tegucigalpa',\n",
       " 'America/Thule',\n",
       " 'America/Thunder_Bay',\n",
       " 'America/Tijuana',\n",
       " 'America/Toronto',\n",
       " 'America/Tortola',\n",
       " 'America/Vancouver',\n",
       " 'America/Virgin',\n",
       " 'America/Whitehorse',\n",
       " 'America/Winnipeg',\n",
       " 'America/Yakutat',\n",
       " 'America/Yellowknife',\n",
       " 'Antarctica/Casey',\n",
       " 'Antarctica/Davis',\n",
       " 'Antarctica/DumontDUrville',\n",
       " 'Antarctica/Macquarie',\n",
       " 'Antarctica/Mawson',\n",
       " 'Antarctica/McMurdo',\n",
       " 'Antarctica/Palmer',\n",
       " 'Antarctica/Rothera',\n",
       " 'Antarctica/South_Pole',\n",
       " 'Antarctica/Syowa',\n",
       " 'Antarctica/Troll',\n",
       " 'Antarctica/Vostok',\n",
       " 'Arctic/Longyearbyen',\n",
       " 'Asia/Aden',\n",
       " 'Asia/Almaty',\n",
       " 'Asia/Amman',\n",
       " 'Asia/Anadyr',\n",
       " 'Asia/Aqtau',\n",
       " 'Asia/Aqtobe',\n",
       " 'Asia/Ashgabat',\n",
       " 'Asia/Ashkhabad',\n",
       " 'Asia/Atyrau',\n",
       " 'Asia/Baghdad',\n",
       " 'Asia/Bahrain',\n",
       " 'Asia/Baku',\n",
       " 'Asia/Bangkok',\n",
       " 'Asia/Barnaul',\n",
       " 'Asia/Beirut',\n",
       " 'Asia/Bishkek',\n",
       " 'Asia/Brunei',\n",
       " 'Asia/Calcutta',\n",
       " 'Asia/Chita',\n",
       " 'Asia/Choibalsan',\n",
       " 'Asia/Chongqing',\n",
       " 'Asia/Chungking',\n",
       " 'Asia/Colombo',\n",
       " 'Asia/Dacca',\n",
       " 'Asia/Damascus',\n",
       " 'Asia/Dhaka',\n",
       " 'Asia/Dili',\n",
       " 'Asia/Dubai',\n",
       " 'Asia/Dushanbe',\n",
       " 'Asia/Famagusta',\n",
       " 'Asia/Gaza',\n",
       " 'Asia/Harbin',\n",
       " 'Asia/Hebron',\n",
       " 'Asia/Ho_Chi_Minh',\n",
       " 'Asia/Hong_Kong',\n",
       " 'Asia/Hovd',\n",
       " 'Asia/Irkutsk',\n",
       " 'Asia/Istanbul',\n",
       " 'Asia/Jakarta',\n",
       " 'Asia/Jayapura',\n",
       " 'Asia/Jerusalem',\n",
       " 'Asia/Kabul',\n",
       " 'Asia/Kamchatka',\n",
       " 'Asia/Karachi',\n",
       " 'Asia/Kashgar',\n",
       " 'Asia/Kathmandu',\n",
       " 'Asia/Katmandu',\n",
       " 'Asia/Khandyga',\n",
       " 'Asia/Kolkata',\n",
       " 'Asia/Krasnoyarsk',\n",
       " 'Asia/Kuala_Lumpur',\n",
       " 'Asia/Kuching',\n",
       " 'Asia/Kuwait',\n",
       " 'Asia/Macao',\n",
       " 'Asia/Macau',\n",
       " 'Asia/Magadan',\n",
       " 'Asia/Makassar',\n",
       " 'Asia/Manila',\n",
       " 'Asia/Muscat',\n",
       " 'Asia/Nicosia',\n",
       " 'Asia/Novokuznetsk',\n",
       " 'Asia/Novosibirsk',\n",
       " 'Asia/Omsk',\n",
       " 'Asia/Oral',\n",
       " 'Asia/Phnom_Penh',\n",
       " 'Asia/Pontianak',\n",
       " 'Asia/Pyongyang',\n",
       " 'Asia/Qatar',\n",
       " 'Asia/Qostanay',\n",
       " 'Asia/Qyzylorda',\n",
       " 'Asia/Rangoon',\n",
       " 'Asia/Riyadh',\n",
       " 'Asia/Saigon',\n",
       " 'Asia/Sakhalin',\n",
       " 'Asia/Samarkand',\n",
       " 'Asia/Seoul',\n",
       " 'Asia/Shanghai',\n",
       " 'Asia/Singapore',\n",
       " 'Asia/Srednekolymsk',\n",
       " 'Asia/Taipei',\n",
       " 'Asia/Tashkent',\n",
       " 'Asia/Tbilisi',\n",
       " 'Asia/Tehran',\n",
       " 'Asia/Tel_Aviv',\n",
       " 'Asia/Thimbu',\n",
       " 'Asia/Thimphu',\n",
       " 'Asia/Tokyo',\n",
       " 'Asia/Tomsk',\n",
       " 'Asia/Ujung_Pandang',\n",
       " 'Asia/Ulaanbaatar',\n",
       " 'Asia/Ulan_Bator',\n",
       " 'Asia/Urumqi',\n",
       " 'Asia/Ust-Nera',\n",
       " 'Asia/Vientiane',\n",
       " 'Asia/Vladivostok',\n",
       " 'Asia/Yakutsk',\n",
       " 'Asia/Yangon',\n",
       " 'Asia/Yekaterinburg',\n",
       " 'Asia/Yerevan',\n",
       " 'Atlantic/Azores',\n",
       " 'Atlantic/Bermuda',\n",
       " 'Atlantic/Canary',\n",
       " 'Atlantic/Cape_Verde',\n",
       " 'Atlantic/Faeroe',\n",
       " 'Atlantic/Faroe',\n",
       " 'Atlantic/Jan_Mayen',\n",
       " 'Atlantic/Madeira',\n",
       " 'Atlantic/Reykjavik',\n",
       " 'Atlantic/South_Georgia',\n",
       " 'Atlantic/St_Helena',\n",
       " 'Atlantic/Stanley',\n",
       " 'Australia/ACT',\n",
       " 'Australia/Adelaide',\n",
       " 'Australia/Brisbane',\n",
       " 'Australia/Broken_Hill',\n",
       " 'Australia/Canberra',\n",
       " 'Australia/Currie',\n",
       " 'Australia/Darwin',\n",
       " 'Australia/Eucla',\n",
       " 'Australia/Hobart',\n",
       " 'Australia/LHI',\n",
       " 'Australia/Lindeman',\n",
       " 'Australia/Lord_Howe',\n",
       " 'Australia/Melbourne',\n",
       " 'Australia/NSW',\n",
       " 'Australia/North',\n",
       " 'Australia/Perth',\n",
       " 'Australia/Queensland',\n",
       " 'Australia/South',\n",
       " 'Australia/Sydney',\n",
       " 'Australia/Tasmania',\n",
       " 'Australia/Victoria',\n",
       " 'Australia/West',\n",
       " 'Australia/Yancowinna',\n",
       " 'Brazil/Acre',\n",
       " 'Brazil/DeNoronha',\n",
       " 'Brazil/East',\n",
       " 'Brazil/West',\n",
       " 'CET',\n",
       " 'CST6CDT',\n",
       " 'Canada/Atlantic',\n",
       " 'Canada/Central',\n",
       " 'Canada/Eastern',\n",
       " 'Canada/Mountain',\n",
       " 'Canada/Newfoundland',\n",
       " 'Canada/Pacific',\n",
       " 'Canada/Saskatchewan',\n",
       " 'Canada/Yukon',\n",
       " 'Chile/Continental',\n",
       " 'Chile/EasterIsland',\n",
       " 'Cuba',\n",
       " 'EET',\n",
       " 'EST',\n",
       " 'EST5EDT',\n",
       " 'Egypt',\n",
       " 'Eire',\n",
       " 'Etc/GMT',\n",
       " 'Etc/GMT+0',\n",
       " 'Etc/GMT+1',\n",
       " 'Etc/GMT+10',\n",
       " 'Etc/GMT+11',\n",
       " 'Etc/GMT+12',\n",
       " 'Etc/GMT+2',\n",
       " 'Etc/GMT+3',\n",
       " 'Etc/GMT+4',\n",
       " 'Etc/GMT+5',\n",
       " 'Etc/GMT+6',\n",
       " 'Etc/GMT+7',\n",
       " 'Etc/GMT+8',\n",
       " 'Etc/GMT+9',\n",
       " 'Etc/GMT-0',\n",
       " 'Etc/GMT-1',\n",
       " 'Etc/GMT-10',\n",
       " 'Etc/GMT-11',\n",
       " 'Etc/GMT-12',\n",
       " 'Etc/GMT-13',\n",
       " 'Etc/GMT-14',\n",
       " 'Etc/GMT-2',\n",
       " 'Etc/GMT-3',\n",
       " 'Etc/GMT-4',\n",
       " 'Etc/GMT-5',\n",
       " 'Etc/GMT-6',\n",
       " 'Etc/GMT-7',\n",
       " 'Etc/GMT-8',\n",
       " 'Etc/GMT-9',\n",
       " 'Etc/GMT0',\n",
       " 'Etc/Greenwich',\n",
       " 'Etc/UCT',\n",
       " 'Etc/UTC',\n",
       " 'Etc/Universal',\n",
       " 'Etc/Zulu',\n",
       " 'Europe/Amsterdam',\n",
       " 'Europe/Andorra',\n",
       " 'Europe/Astrakhan',\n",
       " 'Europe/Athens',\n",
       " 'Europe/Belfast',\n",
       " 'Europe/Belgrade',\n",
       " 'Europe/Berlin',\n",
       " 'Europe/Bratislava',\n",
       " 'Europe/Brussels',\n",
       " 'Europe/Bucharest',\n",
       " 'Europe/Budapest',\n",
       " 'Europe/Busingen',\n",
       " 'Europe/Chisinau',\n",
       " 'Europe/Copenhagen',\n",
       " 'Europe/Dublin',\n",
       " 'Europe/Gibraltar',\n",
       " 'Europe/Guernsey',\n",
       " 'Europe/Helsinki',\n",
       " 'Europe/Isle_of_Man',\n",
       " 'Europe/Istanbul',\n",
       " 'Europe/Jersey',\n",
       " 'Europe/Kaliningrad',\n",
       " 'Europe/Kiev',\n",
       " 'Europe/Kirov',\n",
       " 'Europe/Lisbon',\n",
       " 'Europe/Ljubljana',\n",
       " 'Europe/London',\n",
       " 'Europe/Luxembourg',\n",
       " 'Europe/Madrid',\n",
       " 'Europe/Malta',\n",
       " 'Europe/Mariehamn',\n",
       " 'Europe/Minsk',\n",
       " 'Europe/Monaco',\n",
       " 'Europe/Moscow',\n",
       " 'Europe/Nicosia',\n",
       " 'Europe/Oslo',\n",
       " 'Europe/Paris',\n",
       " 'Europe/Podgorica',\n",
       " 'Europe/Prague',\n",
       " 'Europe/Riga',\n",
       " 'Europe/Rome',\n",
       " 'Europe/Samara',\n",
       " 'Europe/San_Marino',\n",
       " 'Europe/Sarajevo',\n",
       " 'Europe/Saratov',\n",
       " 'Europe/Simferopol',\n",
       " 'Europe/Skopje',\n",
       " 'Europe/Sofia',\n",
       " 'Europe/Stockholm',\n",
       " 'Europe/Tallinn',\n",
       " 'Europe/Tirane',\n",
       " 'Europe/Tiraspol',\n",
       " 'Europe/Ulyanovsk',\n",
       " 'Europe/Uzhgorod',\n",
       " 'Europe/Vaduz',\n",
       " 'Europe/Vatican',\n",
       " 'Europe/Vienna',\n",
       " 'Europe/Vilnius',\n",
       " 'Europe/Volgograd',\n",
       " 'Europe/Warsaw',\n",
       " 'Europe/Zagreb',\n",
       " 'Europe/Zaporozhye',\n",
       " 'Europe/Zurich',\n",
       " 'Factory',\n",
       " 'GB',\n",
       " 'GB-Eire',\n",
       " 'GMT',\n",
       " 'GMT+0',\n",
       " 'GMT-0',\n",
       " 'GMT0',\n",
       " 'Greenwich',\n",
       " 'HST',\n",
       " 'Hongkong',\n",
       " 'Iceland',\n",
       " 'Indian/Antananarivo',\n",
       " 'Indian/Chagos',\n",
       " 'Indian/Christmas',\n",
       " 'Indian/Cocos',\n",
       " 'Indian/Comoro',\n",
       " 'Indian/Kerguelen',\n",
       " 'Indian/Mahe',\n",
       " 'Indian/Maldives',\n",
       " 'Indian/Mauritius',\n",
       " 'Indian/Mayotte',\n",
       " 'Indian/Reunion',\n",
       " 'Iran',\n",
       " 'Israel',\n",
       " 'Jamaica',\n",
       " 'Japan',\n",
       " 'Kwajalein',\n",
       " 'Libya',\n",
       " 'MET',\n",
       " 'MST',\n",
       " 'MST7MDT',\n",
       " 'Mexico/BajaNorte',\n",
       " 'Mexico/BajaSur',\n",
       " 'Mexico/General',\n",
       " 'NZ',\n",
       " 'NZ-CHAT',\n",
       " 'Navajo',\n",
       " 'PRC',\n",
       " 'PST8PDT',\n",
       " 'Pacific/Apia',\n",
       " 'Pacific/Auckland',\n",
       " 'Pacific/Bougainville',\n",
       " 'Pacific/Chatham',\n",
       " 'Pacific/Chuuk',\n",
       " 'Pacific/Easter',\n",
       " 'Pacific/Efate',\n",
       " 'Pacific/Enderbury',\n",
       " 'Pacific/Fakaofo',\n",
       " 'Pacific/Fiji',\n",
       " 'Pacific/Funafuti',\n",
       " 'Pacific/Galapagos',\n",
       " 'Pacific/Gambier',\n",
       " 'Pacific/Guadalcanal',\n",
       " 'Pacific/Guam',\n",
       " 'Pacific/Honolulu',\n",
       " 'Pacific/Johnston',\n",
       " 'Pacific/Kiritimati',\n",
       " 'Pacific/Kosrae',\n",
       " 'Pacific/Kwajalein',\n",
       " 'Pacific/Majuro',\n",
       " 'Pacific/Marquesas',\n",
       " 'Pacific/Midway',\n",
       " 'Pacific/Nauru',\n",
       " 'Pacific/Niue',\n",
       " 'Pacific/Norfolk',\n",
       " 'Pacific/Noumea',\n",
       " 'Pacific/Pago_Pago',\n",
       " 'Pacific/Palau',\n",
       " 'Pacific/Pitcairn',\n",
       " 'Pacific/Pohnpei',\n",
       " 'Pacific/Ponape',\n",
       " 'Pacific/Port_Moresby',\n",
       " 'Pacific/Rarotonga',\n",
       " 'Pacific/Saipan',\n",
       " 'Pacific/Samoa',\n",
       " 'Pacific/Tahiti',\n",
       " 'Pacific/Tarawa',\n",
       " 'Pacific/Tongatapu',\n",
       " 'Pacific/Truk',\n",
       " 'Pacific/Wake',\n",
       " 'Pacific/Wallis',\n",
       " 'Pacific/Yap',\n",
       " 'Poland',\n",
       " 'Portugal',\n",
       " 'ROC',\n",
       " 'ROK',\n",
       " 'Singapore',\n",
       " 'Turkey',\n",
       " 'UCT',\n",
       " 'US/Alaska',\n",
       " 'US/Aleutian',\n",
       " 'US/Arizona',\n",
       " 'US/Central',\n",
       " 'US/East-Indiana',\n",
       " 'US/Eastern',\n",
       " 'US/Hawaii',\n",
       " 'US/Indiana-Starke',\n",
       " 'US/Michigan',\n",
       " 'US/Mountain',\n",
       " 'US/Pacific',\n",
       " 'US/Samoa',\n",
       " 'UTC',\n",
       " 'Universal',\n",
       " 'W-SU',\n",
       " 'WET',\n",
       " 'Zulu',\n",
       " 'build/etc/localtime'}"
      ]
     },
     "execution_count": 10,
     "metadata": {},
     "output_type": "execute_result"
    }
   ],
   "source": [
    "import zoneinfo\n",
    "zoneinfo.available_timezones()"
   ]
  },
  {
   "cell_type": "markdown",
   "id": "cooperative-craps",
   "metadata": {},
   "source": [
    "Under-the-hood it makes use of a database to handle the complexities of time zones including the numerous historical relative changes (quoted from the [database website](https://www.iana.org/time-zones), consult that for details):\n",
    "\n",
    "> The Time Zone Database (often called tz or zoneinfo) contains code and data that represent the history of local time for many representative locations around the globe. It is updated periodically to reflect changes made by political bodies to time zone boundaries, UTC offsets, and daylight-saving rules."
   ]
  },
  {
   "cell_type": "code",
   "execution_count": 11,
   "id": "aware-fruit",
   "metadata": {},
   "outputs": [
    {
     "name": "stdout",
     "output_type": "stream",
     "text": [
      "2021-03-26 15:52:18.359570+00:00\n",
      "It's 3 o'clock for me in UTC but 4 o'clock in CET.\n"
     ]
    }
   ],
   "source": [
    "from datetime import datetime\n",
    "\n",
    "my_time = datetime.now(zoneinfo.ZoneInfo(\"UTC\"))\n",
    "print(my_time)\n",
    "\n",
    "# Inspecting the hour today:\n",
    "my_time_hour = my_time.hour\n",
    "central_european_time_hour = datetime.now(zoneinfo.ZoneInfo(\"CET\")).hour\n",
    "print(\n",
    "    f\"It's {my_time_hour % 12} o'clock for me in UTC but \"\n",
    "    f\"{central_european_time_hour % 12} o'clock in CET.\")"
   ]
  },
  {
   "cell_type": "markdown",
   "id": "liquid-avatar",
   "metadata": {},
   "source": [
    "There's a post I found really useful for understanding `zoneinfo` and how it relates to previous means to manage timezones in Python open to read here: https://howchoo.com/g/ywi5m2vkodk/working-with-datetime-objects-and-timezones-in-python"
   ]
  },
  {
   "cell_type": "markdown",
   "id": "portable-workstation",
   "metadata": {},
   "source": [
    "### New module: `graphlib` for operations on graph-like structures"
   ]
  },
  {
   "cell_type": "code",
   "execution_count": 12,
   "id": "solid-denver",
   "metadata": {},
   "outputs": [
    {
     "name": "stdout",
     "output_type": "stream",
     "text": [
      "Help on TopologicalSorter in module graphlib object:\n",
      "\n",
      "class TopologicalSorter(builtins.object)\n",
      " |  TopologicalSorter(graph=None)\n",
      " |  \n",
      " |  Provides functionality to topologically sort a graph of hashable nodes\n",
      " |  \n",
      " |  Methods defined here:\n",
      " |  \n",
      " |  __bool__(self)\n",
      " |  \n",
      " |  __init__(self, graph=None)\n",
      " |      Initialize self.  See help(type(self)) for accurate signature.\n",
      " |  \n",
      " |  add(self, node, *predecessors)\n",
      " |      Add a new node and its predecessors to the graph.\n",
      " |      \n",
      " |      Both the *node* and all elements in *predecessors* must be hashable.\n",
      " |      \n",
      " |      If called multiple times with the same node argument, the set of dependencies\n",
      " |      will be the union of all dependencies passed in.\n",
      " |      \n",
      " |      It is possible to add a node with no dependencies (*predecessors* is not provided)\n",
      " |      as well as provide a dependency twice. If a node that has not been provided before\n",
      " |      is included among *predecessors* it will be automatically added to the graph with\n",
      " |      no predecessors of its own.\n",
      " |      \n",
      " |      Raises ValueError if called after \"prepare\".\n",
      " |  \n",
      " |  done(self, *nodes)\n",
      " |      Marks a set of nodes returned by \"get_ready\" as processed.\n",
      " |      \n",
      " |      This method unblocks any successor of each node in *nodes* for being returned\n",
      " |      in the future by a call to \"get_ready\".\n",
      " |      \n",
      " |      Raises :exec:`ValueError` if any node in *nodes* has already been marked as\n",
      " |      processed by a previous call to this method, if a node was not added to the\n",
      " |      graph by using \"add\" or if called without calling \"prepare\" previously or if\n",
      " |      node has not yet been returned by \"get_ready\".\n",
      " |  \n",
      " |  get_ready(self)\n",
      " |      Return a tuple of all the nodes that are ready.\n",
      " |      \n",
      " |      Initially it returns all nodes with no predecessors; once those are marked\n",
      " |      as processed by calling \"done\", further calls will return all new nodes that\n",
      " |      have all their predecessors already processed. Once no more progress can be made,\n",
      " |      empty tuples are returned.\n",
      " |      \n",
      " |      Raises ValueError if called without calling \"prepare\" previously.\n",
      " |  \n",
      " |  is_active(self)\n",
      " |      Return ``True`` if more progress can be made and ``False`` otherwise.\n",
      " |      \n",
      " |      Progress can be made if cycles do not block the resolution and either there\n",
      " |      are still nodes ready that haven't yet been returned by \"get_ready\" or the\n",
      " |      number of nodes marked \"done\" is less than the number that have been returned\n",
      " |      by \"get_ready\".\n",
      " |      \n",
      " |      Raises ValueError if called without calling \"prepare\" previously.\n",
      " |  \n",
      " |  prepare(self)\n",
      " |      Mark the graph as finished and check for cycles in the graph.\n",
      " |      \n",
      " |      If any cycle is detected, \"CycleError\" will be raised, but \"get_ready\" can\n",
      " |      still be used to obtain as many nodes as possible until cycles block more\n",
      " |      progress. After a call to this function, the graph cannot be modified and\n",
      " |      therefore no more nodes can be added using \"add\".\n",
      " |  \n",
      " |  static_order(self)\n",
      " |      Returns an iterable of nodes in a topological order.\n",
      " |      \n",
      " |      The particular order that is returned may depend on the specific\n",
      " |      order in which the items were inserted in the graph.\n",
      " |      \n",
      " |      Using this method does not require to call \"prepare\" or \"done\". If any\n",
      " |      cycle is detected, :exc:`CycleError` will be raised.\n",
      " |  \n",
      " |  ----------------------------------------------------------------------\n",
      " |  Data descriptors defined here:\n",
      " |  \n",
      " |  __dict__\n",
      " |      dictionary for instance variables (if defined)\n",
      " |  \n",
      " |  __weakref__\n",
      " |      list of weak references to the object (if defined)\n",
      "\n"
     ]
    }
   ],
   "source": [
    "import graphlib\n",
    "graphlib.__dir__()\n",
    "help(graphlib.TopologicalSorter())"
   ]
  },
  {
   "cell_type": "markdown",
   "id": "worst-apparel",
   "metadata": {},
   "source": [
    "There's a lovely post that explains what toplogical sorting is and the basics of `graphlib` here: https://willearp.com/posts/pythons-topological-sorter/."
   ]
  },
  {
   "cell_type": "markdown",
   "id": "regular-giant",
   "metadata": {},
   "source": [
    "## `from __future__ import`: what's set to come in version 3.10"
   ]
  },
  {
   "cell_type": "markdown",
   "id": "static-crystal",
   "metadata": {},
   "source": [
    "The current (alpha 'a6') documentation lists the features that have already been set to go into 3.10, though more will likely be added before release: https://docs.python.org/3.10/whatsnew/3.10.html"
   ]
  },
  {
   "cell_type": "markdown",
   "id": "spatial-platform",
   "metadata": {},
   "source": [
    "I'll only discuss what I think is the most interesting new feature, but to mention briefly a few other additions I found notable:\n",
    "\n",
    "* parenthesized continuation for multiple context managers;\n",
    "* more helpful syntax errors than \"SyntaxError: unexpected EOF while parsing\" for unclosed parentheses, brackets or braces and similar;\n",
    "* entire `distutils` package becomes deprecated, so it seems like `setuptools` is being encouraged now (until the next packaging module comes along...) e.g. for our modules I updated the `setup.py` `setup()` function like so: https://github.com/NCAS-CMS/cf-python/commit/353c053618f8ba288c1aaa221cd915bc359abed3;"
   ]
  },
  {
   "cell_type": "markdown",
   "id": "lightweight-contest",
   "metadata": {},
   "source": [
    "### Structural Pattern Matching (PEP 634) with `match`/`case`"
   ]
  },
  {
   "cell_type": "markdown",
   "id": "sixth-highland",
   "metadata": {},
   "source": [
    "Easily the most outlandish and likely controversial of the features already due to go into 3.10 is from [PEP 634](https://www.python.org/dev/peps/pep-0634/) which introcudes new reserved keywords `match` and `case` which facilitate pattern matching:\n",
    "\n",
    "* `match` takes an expression, which\n",
    "* `case` statements provide patterns which are successively compared to until a match is found (or otherwise).\n",
    "\n",
    "The structure of the `match`/`case` expression is superficially (syntactically) similar to the `switch`/`case` statements available in C and Java, etc., but can only be used in a certain way for pattern matching which is very common in functional languages e.g. `Haskell` or `Scala`."
   ]
  },
  {
   "cell_type": "code",
   "execution_count": 13,
   "id": "genuine-certificate",
   "metadata": {},
   "outputs": [],
   "source": [
    "# Note: all this code won't run without a SyntaxError as 3.10 is not available yet!\n",
    "# So here I create a custom iPython 'magic' method to ignore the errors:\n",
    "\n",
    "from IPython.core.magic import register_cell_magic\n",
    "\n",
    "# Adapted from a method suggested in https://stackoverflow.com/questions/40110540/\n",
    "@register_cell_magic('assume_future')\n",
    "def assume_future(line, cell):\n",
    "    try:\n",
    "        exec(cell)\n",
    "    except Exception as e:\n",
    "        print(\"It all works in version 3.10. Be patient!\")"
   ]
  },
  {
   "cell_type": "markdown",
   "id": "opposite-equivalent",
   "metadata": {},
   "source": [
    "As a basic example that applies the basic pattern matching I am learning about in my recent foray of Haskell:"
   ]
  },
  {
   "cell_type": "code",
   "execution_count": 14,
   "id": "august-sacramento",
   "metadata": {},
   "outputs": [
    {
     "name": "stdout",
     "output_type": "stream",
     "text": [
      "It all works in version 3.10. Be patient!\n"
     ]
    }
   ],
   "source": [
    "%%assume_future\n",
    "\n",
    "match some_list:\n",
    "    case []:\n",
    "        print(\"This list is empty\")\n",
    "    case [x]:\n",
    "        print(\"This list has one element.\")\n",
    "    case _:\n",
    "        print(\"This list has multiple elements!\")"
   ]
  },
  {
   "cell_type": "markdown",
   "id": "fatal-modeling",
   "metadata": {},
   "source": [
    "Another nice use case is to match against a set of named constants:"
   ]
  },
  {
   "cell_type": "code",
   "execution_count": 15,
   "id": "comparable-steering",
   "metadata": {},
   "outputs": [
    {
     "name": "stdout",
     "output_type": "stream",
     "text": [
      "It all works in version 3.10. Be patient!\n"
     ]
    }
   ],
   "source": [
    "%%assume_future\n",
    "\n",
    "from enum import Enum\n",
    "\n",
    "class Response(Enum):\n",
    "    FIGHT = 0\n",
    "    FLIGHT = 1\n",
    "\n",
    "# Note: this won't run without a SyntaxError as 3.10 is not available yet!\n",
    "match response:\n",
    "    case Response.FIGHT:\n",
    "        person.fight()\n",
    "    case Response.FLIGHT:\n",
    "        person.run()"
   ]
  },
  {
   "cell_type": "markdown",
   "id": "involved-watershed",
   "metadata": {},
   "source": [
    "For further detail, there is a nice tutorial straight \"from the horses' mouth\": https://github.com/gvanrossum/patma/blob/master/README.md#tutorial"
   ]
  },
  {
   "cell_type": "markdown",
   "id": "unlimited-california",
   "metadata": {},
   "source": [
    "--------"
   ]
  }
 ],
 "metadata": {
  "kernelspec": {
   "display_name": "Python 3",
   "language": "python",
   "name": "python3"
  },
  "language_info": {
   "codemirror_mode": {
    "name": "ipython",
    "version": 3
   },
   "file_extension": ".py",
   "mimetype": "text/x-python",
   "name": "python",
   "nbconvert_exporter": "python",
   "pygments_lexer": "ipython3",
   "version": "3.9.2"
  }
 },
 "nbformat": 4,
 "nbformat_minor": 5
}
