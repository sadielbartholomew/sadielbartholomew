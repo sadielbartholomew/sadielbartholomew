{
 "cells": [
  {
   "cell_type": "markdown",
   "metadata": {},
   "source": [
    "# ``pathlib`` for managing filesystem paths"
   ]
  },
  {
   "cell_type": "markdown",
   "metadata": {},
   "source": [
    "### ``pathlib`` is a **standard library** utility module for Python ``3.4+`` (with a backport available for Python 2).\n",
    "\n",
    "### It provides an *object-oriented (class-based)* alternative to ``os.path``, which treats paths as *regular text strings*.\n",
    "\n",
    "**************\n",
    "\n",
    "## SImple example: deriving paths\n",
    "\n",
    "### The old way, with ``os.path``\n",
    "\n",
    "For those unfamiliar, we use ``os.path.join`` instead of string *concatenation* since different operating systems use different characters as separators (Linux & Mac: ``/``, Windows: ``\\``, etc.)"
   ]
  },
  {
   "cell_type": "code",
   "execution_count": 1,
   "metadata": {},
   "outputs": [
    {
     "name": "stdout",
     "output_type": "stream",
     "text": [
      "  Path is:\n",
      "/home/h06/sbarth/bin\n",
      "  Representation of path is:\n",
      "'/home/h06/sbarth/bin'\n",
      "  'Type' of path is:\n",
      "<class 'str'>\n"
     ]
    }
   ],
   "source": [
    "import os.path\n",
    "\n",
    "ospath_to_script = os.path.join(os.path.expanduser(\"~\"), \"bin\")\n",
    "\n",
    "print(\n",
    "    \"  Path is:\", ospath_to_script,\n",
    "    \"  Representation of path is:\", repr(ospath_to_script),\n",
    "    \"  'Type' of path is:\", type(ospath_to_script),\n",
    "    sep='\\n'\n",
    "\n",
    ")"
   ]
  },
  {
   "cell_type": "markdown",
   "metadata": {},
   "source": [
    "### The new way, with pathlib"
   ]
  },
  {
   "cell_type": "markdown",
   "metadata": {},
   "source": [
    "``pathlib`` introduces a small & simple hierarchy of classes for managnig paths. Using the general class ``Path`` as an example:"
   ]
  },
  {
   "cell_type": "code",
   "execution_count": 2,
   "metadata": {},
   "outputs": [
    {
     "name": "stdout",
     "output_type": "stream",
     "text": [
      "  Path is:\n",
      "/home/h06/sbarth/bin\n",
      "  Representation of path is:\n",
      "PosixPath('/home/h06/sbarth/bin')\n",
      "  'Type' of path is:\n",
      "<class 'pathlib.PosixPath'>\n"
     ]
    }
   ],
   "source": [
    "from pathlib import Path\n",
    "\n",
    "pathlib_to_script = Path.home() / \"bin\"  # note the overloading of the '/' operator!\n",
    "\n",
    "print(\n",
    "    \"  Path is:\", pathlib_to_script,\n",
    "    \"  Representation of path is:\", repr(pathlib_to_script),\n",
    "    \"  'Type' of path is:\", type(pathlib_to_script),\n",
    "    sep='\\n'\n",
    ")"
   ]
  },
  {
   "cell_type": "markdown",
   "metadata": {},
   "source": [
    "## Advantages & disadvantages of ``pathlib`` over ``os.path``\n",
    "\n",
    "### Advantages:\n",
    "\n",
    "* ``pathlib.Path`` objects instead of strings for paths makes corresponding code **more explicit**;\n",
    "* ``pathlib.Path`` syntax is **largely more readble & concise** (subjectively, but this seems to be the general consensus from a cross-section of blogs & tutorials on the topic);\n",
    "* ``os.path`` strings require a lot of function nesting for a general use case, but **methods & attributes can be chained** onto ``pathlib.Path`` objects;\n",
    "* the ``os`` module is a hodgepodge of functionality, whereas the ``pathlib`` **module provides a much smaller \\& more specific namespace**.\n",
    "\n",
    "\n",
    "### Disadvantages\n",
    "\n",
    "* the **abstraction of paths as objects is not universally recognised**, so can lead to errors, especially for v.3.4 & v.3.5 (by Python 3.6, the pathlib module is supported across most of the standard library);\n",
    "* since it is much newer than ``os.path``, developers will likely not be as familiar with ``pathlib`` so there will be **an overhead to adapt to it**.\n",
    "\n",
    "## Further references\n",
    "\n",
    "* [PEP 428](https://www.python.org/dev/peps/pep-0428/)"
   ]
  }
 ],
 "metadata": {
  "kernelspec": {
   "display_name": "Python 3",
   "language": "python",
   "name": "python3"
  },
  "language_info": {
   "codemirror_mode": {
    "name": "ipython",
    "version": 3
   },
   "file_extension": ".py",
   "mimetype": "text/x-python",
   "name": "python",
   "nbconvert_exporter": "python",
   "pygments_lexer": "ipython3",
   "version": "3.7.4"
  }
 },
 "nbformat": 4,
 "nbformat_minor": 2
}
